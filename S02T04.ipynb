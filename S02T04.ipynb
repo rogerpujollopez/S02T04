{
 "cells": [
  {
   "cell_type": "markdown",
   "id": "5bb70802",
   "metadata": {},
   "source": [
    "# Exercici 1"
   ]
  },
  {
   "cell_type": "markdown",
   "id": "bfff5735",
   "metadata": {},
   "source": [
    "#### Crea una funció que donat un Array d’una dimensió, et faci un resum estadístic bàsic de les dades. Si detecta que l’array té més d’una dimensió, ha de mostrar un missatge d’error."
   ]
  },
  {
   "cell_type": "code",
   "execution_count": 18,
   "id": "33a4951a",
   "metadata": {},
   "outputs": [
    {
     "name": "stdout",
     "output_type": "stream",
     "text": [
      "Dimensions: 1\n",
      "Mitja: 26\n",
      "Mitjada: 17.0\n",
      "Moda: 15\n",
      "Rango: 61\n",
      "Desviació estandar: 21.587033144922902\n"
     ]
    }
   ],
   "source": [
    "import statistics\n",
    "from statistics import mode\n",
    "import numpy as np\n",
    "\n",
    "nums = np.array ([15,67,41,19,6,8])\n",
    "print(\"Dimensions: \" + str(nums.ndim))\n",
    "\n",
    "if nums.ndim!=1:\n",
    "    print(\"Error\")\n",
    "else:\n",
    "    print(\"Mitja: \" + str(statistics.mean(nums)))\n",
    "\n",
    "    print(\"Mitjada: \" + str(statistics.median(nums)))\n",
    "    print(\"Moda: \" + str(mode(nums)))\n",
    "\n",
    "    nmin=min(nums)\n",
    "    nmax=max(nums)\n",
    "    print(\"Rango: \" + str(nmax-nmin))\n",
    "\n",
    "    print(\"Desviació estandar: \" + str(statistics.pstdev(nums)))"
   ]
  },
  {
   "cell_type": "markdown",
   "id": "399c2f38",
   "metadata": {},
   "source": [
    "# Exercici 2"
   ]
  },
  {
   "cell_type": "markdown",
   "id": "42476682",
   "metadata": {},
   "source": [
    "#### Crea una funció que et generi un quadrat NxN de nombres aleatoris entre el 0 i el 100"
   ]
  },
  {
   "cell_type": "code",
   "execution_count": 20,
   "id": "64aaf667",
   "metadata": {},
   "outputs": [
    {
     "name": "stdout",
     "output_type": "stream",
     "text": [
      "[[0.85441064 0.5412147  0.26656401 0.69516994 0.82349532]\n",
      " [0.01778879 0.99121722 0.09689842 0.27043645 0.30812605]\n",
      " [0.38006426 0.62181126 0.9304326  0.13443602 0.89129676]\n",
      " [0.9305235  0.83367603 0.99564286 0.23588427 0.25504264]\n",
      " [0.40915572 0.09222642 0.11893834 0.70878217 0.37507507]]\n",
      "[[57.60381219 94.44604542 17.35201754 15.30565336 49.22552911]\n",
      " [67.44428095 53.51166523 18.01709062 64.39848904 83.33328524]\n",
      " [ 3.27721864 20.51369647 17.34588245 29.78964922 55.33050828]\n",
      " [41.91440709 62.10937952 16.75492741 21.24734554 21.2398006 ]\n",
      " [63.57457911 38.84545507 91.67286795 28.36187058 84.958789  ]]\n"
     ]
    }
   ],
   "source": [
    "import numpy as np\n",
    "\n",
    "#nums = np.random.rand(5,5)\n",
    "#print(nums)\n",
    "nums = np.random.uniform(low=0, high=100, size=(5,5))\n",
    "print(nums)\n"
   ]
  },
  {
   "cell_type": "markdown",
   "id": "b11732d9",
   "metadata": {},
   "source": [
    "# Exercici 3"
   ]
  },
  {
   "cell_type": "markdown",
   "id": "d2e182fb",
   "metadata": {},
   "source": [
    "#### Crea una funció que donada una taula de dues dimensions, et calculi els totals per fila i els totals per columna."
   ]
  },
  {
   "cell_type": "code",
   "execution_count": 26,
   "id": "b600e050",
   "metadata": {},
   "outputs": [
    {
     "name": "stdout",
     "output_type": "stream",
     "text": [
      "Dimensions: 2\n",
      "[174.25467642 176.89943814 101.64360235]\n",
      "[125.1776122  170.01893999 157.60116472]\n"
     ]
    }
   ],
   "source": [
    "import numpy as np\n",
    "\n",
    "nums = np.random.uniform(low=0, high=100, size=(3,3))\n",
    "print(\"Dimensions: \" + str(nums.ndim))\n",
    "s = np.sum(nums, axis=0) # Columna\n",
    "print(s)\n",
    "s = np.sum(nums, axis=1) # Fila\n",
    "print(s)\n",
    "\n"
   ]
  },
  {
   "cell_type": "markdown",
   "id": "e795cc7a",
   "metadata": {},
   "source": [
    "# Exercici 4"
   ]
  },
  {
   "cell_type": "markdown",
   "id": "773409f2",
   "metadata": {},
   "source": [
    "#### Implementa manualment una funció que calculi el coeficient de correlació. Informa’t-en sobre els seus usos i interpretació."
   ]
  },
  {
   "cell_type": "code",
   "execution_count": 54,
   "id": "4fb1b82e",
   "metadata": {},
   "outputs": [
    {
     "name": "stdout",
     "output_type": "stream",
     "text": [
      "[[ 2  1]\n",
      " [ 3  3]\n",
      " [ 4  2]\n",
      " [ 4  4]\n",
      " [ 5  4]\n",
      " [ 6  4]\n",
      " [ 6  6]\n",
      " [ 7  4]\n",
      " [ 7  6]\n",
      " [ 8  7]\n",
      " [10  9]\n",
      " [10 10]]\n",
      "Dimensions: 2\n",
      "Muestras: 12\n",
      "[72 60]\n",
      "x=72\n",
      "y=60\n",
      "xy=431\n",
      "x2=504\n",
      "y2=380\n",
      "Media aritmetica x=6.0\n",
      "Media aritmetica y=5.0\n",
      "Cavarianza=5.916666666666664\n",
      "Desviación tipica x=2.449489742783178\n",
      "Desviación tipica y=2.5819888974716116\n",
      "Coeficiente de correlacion lineal=0.9355071411331451\n"
     ]
    }
   ],
   "source": [
    "#np.corrcoef(x, y)\n",
    "import numpy as np\n",
    "\n",
    "nums = np.array([[2, 1],[3, 3],[4, 2],[4, 4],[5, 4],[6, 4],[6, 6],[7, 4],[7, 6],[8, 7],[10, 9],[10, 10]])\n",
    "print(nums)\n",
    "print(\"Dimensions: \" + str(nums.ndim))\n",
    "muestras=len(nums)\n",
    "print(\"Muestras: \" + str(muestras))\n",
    "res = np.sum(nums, axis=0) # Columna\n",
    "print(res)\n",
    "x=res[0]\n",
    "y=res[1]\n",
    "print(\"x=\" + str(x))\n",
    "print(\"y=\" + str(y))\n",
    "xy_arr=np.prod(nums, axis=1)\n",
    "xy=np.sum(xy_arr)\n",
    "print(\"xy=\" + str(xy))\n",
    "x2y2_arr=np.square(nums)\n",
    "x2y2=np.sum(x2y2_arr, axis=0)\n",
    "x2=x2y2[0]\n",
    "y2=x2y2[1]\n",
    "print(\"x2=\" + str(x2))\n",
    "print(\"y2=\" + str(y2))\n",
    "x_mediaAritmetica=x/muestras\n",
    "print(\"Media aritmetica x=\" + str(x_mediaAritmetica))\n",
    "y_mediaAritmetica=y/muestras\n",
    "print(\"Media aritmetica y=\" + str(y_mediaAritmetica))\n",
    "xy_cavarianza=(xy/muestras)-(x_mediaAritmetica*y_mediaAritmetica)\n",
    "print(\"Cavarianza=\" + str(xy_cavarianza))\n",
    "x_desviacionTipica=np.sqrt((x2/muestras)-(x_mediaAritmetica**2))\n",
    "print(\"Desviación tipica x=\" + str(x_desviacionTipica))\n",
    "y_desviacionTipica=np.sqrt((y2/muestras)-(y_mediaAritmetica**2))\n",
    "print(\"Desviación tipica y=\" + str(y_desviacionTipica))\n",
    "coeficienteCorrelacionLineal=xy_cavarianza/(x_desviacionTipica*y_desviacionTipica)\n",
    "print(\"Coeficiente de correlacion lineal=\" + str(coeficienteCorrelacionLineal))\n",
    "\n"
   ]
  },
  {
   "cell_type": "code",
   "execution_count": null,
   "id": "89f6fdd9",
   "metadata": {},
   "outputs": [],
   "source": []
  }
 ],
 "metadata": {
  "kernelspec": {
   "display_name": "Python 3 (ipykernel)",
   "language": "python",
   "name": "python3"
  },
  "language_info": {
   "codemirror_mode": {
    "name": "ipython",
    "version": 3
   },
   "file_extension": ".py",
   "mimetype": "text/x-python",
   "name": "python",
   "nbconvert_exporter": "python",
   "pygments_lexer": "ipython3",
   "version": "3.9.12"
  }
 },
 "nbformat": 4,
 "nbformat_minor": 5
}
